{
 "cells": [
  {
   "cell_type": "code",
   "execution_count": 1,
   "metadata": {},
   "outputs": [],
   "source": [
    "from data_handler import tokenize, tokens_table, sfl_tokenize\n",
    "import time"
   ]
  },
  {
   "cell_type": "code",
   "execution_count": 2,
   "metadata": {},
   "outputs": [],
   "source": [
    "with open(\"/workspace/GRU_VAE/smiles_100k.txt\",\"r\") as f:\n",
    "    sm = f.read().split(\"\\n\")\n",
    "tt = tokens_table(\"/workspace/GRU_VAE/data/tokens.txt\")\n",
    "tt2 = tokens_table(\"/workspace/GRU_VAE/data/SFL_tokens.txt\")"
   ]
  },
  {
   "cell_type": "code",
   "execution_count": 4,
   "metadata": {},
   "outputs": [
    {
     "name": "stdout",
     "output_type": "stream",
     "text": [
      "3.1938295364379883\n"
     ]
    }
   ],
   "source": [
    "t1 = time.time()\n",
    "t = tokenize(sm,tt.table)\n",
    "t2 = time.time()\n",
    "print(t2 - t1)"
   ]
  },
  {
   "cell_type": "code",
   "execution_count": 4,
   "metadata": {},
   "outputs": [
    {
     "name": "stdout",
     "output_type": "stream",
     "text": [
      "10.86580514907837\n"
     ]
    }
   ],
   "source": [
    "t1 = time.time()\n",
    "t = sfl_tokenize(sm,tt2.table)\n",
    "t2 = time.time()\n",
    "print(t2 - t1)"
   ]
  },
  {
   "cell_type": "code",
   "execution_count": 10,
   "metadata": {},
   "outputs": [],
   "source": [
    "import pandas as pd\n",
    "dat = pd.read_csv(\"/workspace/GRU_VAE/data/val_100k.csv\",index_col=0)\n",
    "s = dat[\"canonical\"]\n",
    "with open(\"/workspace/GRU_VAE/smiles_100k.txt\",\"w\") as f:\n",
    "    f.write(\"\\n\".join(s))\n"
   ]
  },
  {
   "cell_type": "code",
   "execution_count": null,
   "metadata": {},
   "outputs": [],
   "source": []
  }
 ],
 "metadata": {
  "kernelspec": {
   "display_name": "pip-env",
   "language": "python",
   "name": "python3"
  },
  "language_info": {
   "codemirror_mode": {
    "name": "ipython",
    "version": 3
   },
   "file_extension": ".py",
   "mimetype": "text/x-python",
   "name": "python",
   "nbconvert_exporter": "python",
   "pygments_lexer": "ipython3",
   "version": "3.12.0"
  }
 },
 "nbformat": 4,
 "nbformat_minor": 2
}
